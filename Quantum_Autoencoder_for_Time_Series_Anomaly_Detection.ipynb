{
  "cells": [
    {
      "cell_type": "markdown",
      "metadata": {
        "id": "kBykXxy7ClFD"
      },
      "source": [
        "# **Applying Quantum Autoencoders for Time Series Anomaly Detection**\n"
      ]
    },
    {
      "cell_type": "markdown",
      "metadata": {
        "id": "N3ri_DXW1kDj"
      },
      "source": [
        "A remake of the autoencoder proposed in the article \"Applying Quantum Autoencoders for Time Series Anomaly Detection\", published 10/10/2024, by Robin Frehner, Kurt Stockinger.\n",
        "\n",
        "Dataset avaliable here: https://www.cs.ucr.edu/~eamonn/time_series_data_2018/ upload it on your Google Drive to make the code work."
      ]
    },
    {
      "cell_type": "markdown",
      "metadata": {
        "id": "5mVNhYAobDfR"
      },
      "source": [
        "# Environment set up and Imports"
      ]
    },
    {
      "cell_type": "code",
      "execution_count": 2,
      "metadata": {
        "colab": {
          "base_uri": "https://localhost:8080/"
        },
        "id": "k0hpG4K5bDfV",
        "outputId": "83ab2fbe-2e26-4fd9-d40c-7eb34a261646"
      },
      "outputs": [
        {
          "output_type": "stream",
          "name": "stdout",
          "text": [
            "Requirement already satisfied: torch in /usr/local/lib/python3.10/dist-packages (2.5.1+cu121)\n",
            "Requirement already satisfied: pandas in /usr/local/lib/python3.10/dist-packages (2.2.2)\n",
            "Requirement already satisfied: numpy in /usr/local/lib/python3.10/dist-packages (1.26.4)\n",
            "Requirement already satisfied: pennylane in /usr/local/lib/python3.10/dist-packages (0.39.0)\n",
            "Requirement already satisfied: pennylane-lightning in /usr/local/lib/python3.10/dist-packages (0.39.0)\n",
            "Requirement already satisfied: redis in /usr/local/lib/python3.10/dist-packages (5.2.1)\n",
            "Requirement already satisfied: matplotlib in /usr/local/lib/python3.10/dist-packages (3.10.0)\n",
            "Requirement already satisfied: tqdm in /usr/local/lib/python3.10/dist-packages (4.67.1)\n",
            "Requirement already satisfied: scikit-learn in /usr/local/lib/python3.10/dist-packages (1.6.0)\n",
            "Requirement already satisfied: filelock in /usr/local/lib/python3.10/dist-packages (from torch) (3.16.1)\n",
            "Requirement already satisfied: typing-extensions>=4.8.0 in /usr/local/lib/python3.10/dist-packages (from torch) (4.12.2)\n",
            "Requirement already satisfied: networkx in /usr/local/lib/python3.10/dist-packages (from torch) (3.4.2)\n",
            "Requirement already satisfied: jinja2 in /usr/local/lib/python3.10/dist-packages (from torch) (3.1.5)\n",
            "Requirement already satisfied: fsspec in /usr/local/lib/python3.10/dist-packages (from torch) (2024.10.0)\n",
            "Requirement already satisfied: sympy==1.13.1 in /usr/local/lib/python3.10/dist-packages (from torch) (1.13.1)\n",
            "Requirement already satisfied: mpmath<1.4,>=1.1.0 in /usr/local/lib/python3.10/dist-packages (from sympy==1.13.1->torch) (1.3.0)\n",
            "Requirement already satisfied: python-dateutil>=2.8.2 in /usr/local/lib/python3.10/dist-packages (from pandas) (2.8.2)\n",
            "Requirement already satisfied: pytz>=2020.1 in /usr/local/lib/python3.10/dist-packages (from pandas) (2024.2)\n",
            "Requirement already satisfied: tzdata>=2022.7 in /usr/local/lib/python3.10/dist-packages (from pandas) (2024.2)\n",
            "Requirement already satisfied: scipy in /usr/local/lib/python3.10/dist-packages (from pennylane) (1.13.1)\n",
            "Requirement already satisfied: rustworkx>=0.14.0 in /usr/local/lib/python3.10/dist-packages (from pennylane) (0.15.1)\n",
            "Requirement already satisfied: autograd in /usr/local/lib/python3.10/dist-packages (from pennylane) (1.7.0)\n",
            "Requirement already satisfied: toml in /usr/local/lib/python3.10/dist-packages (from pennylane) (0.10.2)\n",
            "Requirement already satisfied: appdirs in /usr/local/lib/python3.10/dist-packages (from pennylane) (1.4.4)\n",
            "Requirement already satisfied: autoray>=0.6.11 in /usr/local/lib/python3.10/dist-packages (from pennylane) (0.7.0)\n",
            "Requirement already satisfied: cachetools in /usr/local/lib/python3.10/dist-packages (from pennylane) (5.5.0)\n",
            "Requirement already satisfied: requests in /usr/local/lib/python3.10/dist-packages (from pennylane) (2.32.3)\n",
            "Requirement already satisfied: packaging in /usr/local/lib/python3.10/dist-packages (from pennylane) (24.2)\n",
            "Requirement already satisfied: async-timeout>=4.0.3 in /usr/local/lib/python3.10/dist-packages (from redis) (4.0.3)\n",
            "Requirement already satisfied: contourpy>=1.0.1 in /usr/local/lib/python3.10/dist-packages (from matplotlib) (1.3.1)\n",
            "Requirement already satisfied: cycler>=0.10 in /usr/local/lib/python3.10/dist-packages (from matplotlib) (0.12.1)\n",
            "Requirement already satisfied: fonttools>=4.22.0 in /usr/local/lib/python3.10/dist-packages (from matplotlib) (4.55.3)\n",
            "Requirement already satisfied: kiwisolver>=1.3.1 in /usr/local/lib/python3.10/dist-packages (from matplotlib) (1.4.8)\n",
            "Requirement already satisfied: pillow>=8 in /usr/local/lib/python3.10/dist-packages (from matplotlib) (11.1.0)\n",
            "Requirement already satisfied: pyparsing>=2.3.1 in /usr/local/lib/python3.10/dist-packages (from matplotlib) (3.2.1)\n",
            "Requirement already satisfied: joblib>=1.2.0 in /usr/local/lib/python3.10/dist-packages (from scikit-learn) (1.4.2)\n",
            "Requirement already satisfied: threadpoolctl>=3.1.0 in /usr/local/lib/python3.10/dist-packages (from scikit-learn) (3.5.0)\n",
            "Requirement already satisfied: six>=1.5 in /usr/local/lib/python3.10/dist-packages (from python-dateutil>=2.8.2->pandas) (1.17.0)\n",
            "Requirement already satisfied: MarkupSafe>=2.0 in /usr/local/lib/python3.10/dist-packages (from jinja2->torch) (3.0.2)\n",
            "Requirement already satisfied: charset-normalizer<4,>=2 in /usr/local/lib/python3.10/dist-packages (from requests->pennylane) (3.4.1)\n",
            "Requirement already satisfied: idna<4,>=2.5 in /usr/local/lib/python3.10/dist-packages (from requests->pennylane) (3.10)\n",
            "Requirement already satisfied: urllib3<3,>=1.21.1 in /usr/local/lib/python3.10/dist-packages (from requests->pennylane) (2.3.0)\n",
            "Requirement already satisfied: certifi>=2017.4.17 in /usr/local/lib/python3.10/dist-packages (from requests->pennylane) (2024.12.14)\n"
          ]
        }
      ],
      "source": [
        "pip install torch pandas numpy pennylane pennylane-lightning redis matplotlib tqdm scikit-learn"
      ]
    },
    {
      "cell_type": "code",
      "source": [
        "import pennylane as qml\n",
        "from pennylane import numpy as np\n",
        "import torch\n",
        "import torch.nn as nn\n",
        "from torch.utils.data import DataLoader, Dataset\n",
        "from sklearn.preprocessing import MinMaxScaler\n",
        "import pandas as pd\n",
        "from tqdm import tqdm\n",
        "import copy"
      ],
      "metadata": {
        "id": "CQKk3ve8TUN9"
      },
      "execution_count": 18,
      "outputs": []
    },
    {
      "cell_type": "code",
      "source": [
        "from google.colab import drive\n",
        "drive.mount('/content/drive')"
      ],
      "metadata": {
        "colab": {
          "base_uri": "https://localhost:8080/"
        },
        "id": "9CUUros2Ubdf",
        "outputId": "b6038390-005c-47c4-9d44-3de68f3b9743"
      },
      "execution_count": 4,
      "outputs": [
        {
          "output_type": "stream",
          "name": "stdout",
          "text": [
            "Drive already mounted at /content/drive; to attempt to forcibly remount, call drive.mount(\"/content/drive\", force_remount=True).\n"
          ]
        }
      ]
    },
    {
      "cell_type": "code",
      "source": [
        "# Dataset preparation\n",
        "class TimeSeriesDataset(Dataset):\n",
        "    def __init__(self, data, window_size, stride):\n",
        "        self.data = self.create_sliding_windows(data, window_size, stride)\n",
        "\n",
        "    def create_sliding_windows(self, data, window_size, stride):\n",
        "        windows = []\n",
        "        for series in data:  # Iterate over each time series\n",
        "            for i in range(0, len(series) - window_size + 1, stride):\n",
        "                windows.append(series[i:i + window_size])\n",
        "        return np.array(windows)\n",
        "\n",
        "    def __len__(self):\n",
        "        return len(self.data)\n",
        "\n",
        "    def __getitem__(self, idx):\n",
        "        return torch.tensor(self.data[idx], dtype=torch.float32)"
      ],
      "metadata": {
        "id": "oGF9fwXnTawG"
      },
      "execution_count": 5,
      "outputs": []
    },
    {
      "cell_type": "code",
      "source": [
        "# Data preparation\n",
        "train_file_path = '/content/drive/My Drive/UCRArchive_2018/Fish/Fish_TRAIN.tsv'\n",
        "test_file_path = '/content/drive/My Drive/UCRArchive_2018/Fish/Fish_TEST.tsv'\n",
        "\n",
        "def load_data(file_path):\n",
        "    data = pd.read_csv(file_path, sep='\\t', header=None)\n",
        "    data = data.iloc[:, 1:]  # Remove the first column\n",
        "    return data\n",
        "\n",
        "train_data = load_data(train_file_path)\n",
        "test_data = load_data(test_file_path)\n",
        "\n",
        "scaler = MinMaxScaler()\n",
        "train_data = scaler.fit_transform(train_data)\n",
        "test_data = scaler.transform(test_data)\n",
        "\n",
        "# Create sliding windows\n",
        "window_size = 128\n",
        "stride = 1\n",
        "train_dataset = TimeSeriesDataset(train_data, window_size, stride)\n",
        "train_loader = DataLoader(train_dataset, batch_size=1, shuffle=True)\n",
        "\n"
      ],
      "metadata": {
        "id": "vhPpEdEOUTAU"
      },
      "execution_count": 6,
      "outputs": []
    },
    {
      "cell_type": "code",
      "source": [
        "# number of time windows for each time series\n",
        "train_data.shape[1] - window_size+1"
      ],
      "metadata": {
        "id": "px6nJEH-amMN",
        "outputId": "3e38f9a5-c61c-4bed-bf9b-c4d4120149c1",
        "colab": {
          "base_uri": "https://localhost:8080/"
        }
      },
      "execution_count": 7,
      "outputs": [
        {
          "output_type": "execute_result",
          "data": {
            "text/plain": [
              "336"
            ]
          },
          "metadata": {},
          "execution_count": 7
        }
      ]
    },
    {
      "cell_type": "code",
      "source": [
        "\n",
        "# Quantum Encoder circuit with Amplitude Encoding\n",
        "def get_quantum_node(num_qubits, dev):\n",
        "    def quantum_circuit(inputs, weights):\n",
        "\n",
        "        # Amplitude Encoding\n",
        "        qml.AmplitudeEmbedding(inputs, wires=range(num_qubits), pad_with=0, normalize=True)\n",
        "\n",
        "        # #QUASI AMPLITUDE ENCODING (alternative useful for real quantum hardware)\n",
        "\n",
        "        # qml.RY(0.578, wires=0)  #(ANGLE_OF_ROTATION, wires=QUBIT_TO_ROTATE)\n",
        "        # qml.RY(0.224, wires=1)\n",
        "        # qml.RY(0.387, wires=2)\n",
        "        # qml.RY(0.204, wires=3)\n",
        "        # qml.RY(0.210, wires=4)\n",
        "        # qml.RY(0.367, wires=5)\n",
        "        # qml.RY(0.780, wires=6)\n",
        "\n",
        "        # qml.RZ(0.101, wires=0)\n",
        "        # qml.RZ(0.337, wires=1)\n",
        "        # qml.RZ(0.430, wires=2)\n",
        "        # qml.RZ(0.501, wires=3)\n",
        "        # qml.RZ(0.215, wires=4)\n",
        "        # qml.RZ(0.933, wires=5)\n",
        "        # qml.RZ(0.169, wires=6)\n",
        "\n",
        "        # qml.CNOT(wires=[6, 0])  #(wires=[CONTROL, TARGET])\n",
        "        # qml.CNOT(wires=[0, 1])\n",
        "        # qml.CNOT(wires=[1, 2])\n",
        "        # qml.CNOT(wires=[2, 3])\n",
        "        # qml.CNOT(wires=[3, 4])\n",
        "        # qml.CNOT(wires=[4, 5])\n",
        "        # qml.CNOT(wires=[5, 6])\n",
        "\n",
        "        # qml.RY(0.406, wires=0)\n",
        "        # qml.RY(0.118, wires=1)\n",
        "        # qml.RY(0.366, wires=2)\n",
        "        # qml.RY(0.232, wires=3)\n",
        "        # qml.RY(0.816, wires=4)\n",
        "        # qml.RY(0.696, wires=5)\n",
        "        # qml.RY(0.353, wires=6)\n",
        "\n",
        "        # qml.RZ(0.699, wires=0)\n",
        "        # qml.RZ(0.887, wires=1)\n",
        "        # qml.RZ(0.0979, wires=2)\n",
        "        # qml.RZ(0.0109, wires=3)\n",
        "        # qml.RZ(0.145, wires=4)\n",
        "        # qml.RZ(0.224, wires=5)\n",
        "        # qml.RZ(0.670, wires=6)\n",
        "\n",
        "        # qml.CNOT(wires=[6, 5])\n",
        "        # qml.CNOT(wires=[0, 6])\n",
        "        # qml.CNOT(wires=[1, 0])\n",
        "        # qml.CNOT(wires=[2, 1])\n",
        "        # qml.CNOT(wires=[3, 2])\n",
        "        # qml.CNOT(wires=[4, 3])\n",
        "        # qml.CNOT(wires=[5, 4])\n",
        "\n",
        "        # qml.RY(0.289, wires=0)\n",
        "        # qml.RY(0.577, wires=1)\n",
        "        # qml.RY(0.990, wires=2)\n",
        "        # qml.RY(0.028, wires=3)\n",
        "        # qml.RY(0.0959, wires=4)\n",
        "        # qml.RY(0.953, wires=5)\n",
        "        # qml.RY(0.194, wires=6)\n",
        "\n",
        "        # qml.RZ(0.832, wires=0)\n",
        "        # qml.RZ(0.788, wires=1)\n",
        "        # qml.RZ(0.0319, wires=2)\n",
        "        # qml.RZ(0.496, wires=3)\n",
        "        # qml.RZ(0.228, wires=4)\n",
        "        # qml.RZ(0.0255, wires=5)\n",
        "        # qml.RZ(0.980, wires=6)\n",
        "\n",
        "\n",
        "        # TRAINABLE ENCODER (variational gates) \"PauliTwoDesign with two repetitions\"\n",
        "\n",
        "        qml.RY(np.pi/4, wires=0)\n",
        "        qml.RY(np.pi/4, wires=1)\n",
        "        qml.RY(np.pi/4, wires=2)\n",
        "        qml.RY(np.pi/4, wires=3)\n",
        "        qml.RY(np.pi/4, wires=4)\n",
        "        qml.RY(np.pi/4, wires=5)\n",
        "        qml.RY(np.pi/4, wires=6)\n",
        "\n",
        "        qml.RZ(weights[0], wires=0)\n",
        "        qml.RY(weights[1], wires=1)\n",
        "        qml.RX(weights[2], wires=2)\n",
        "        qml.RY(weights[3], wires=3)\n",
        "        qml.RZ(weights[4], wires=4)\n",
        "        qml.RX(weights[5], wires=5)\n",
        "        qml.RX(weights[6], wires=6)\n",
        "\n",
        "        qml.CZ(wires=[0, 1])\n",
        "        qml.CZ(wires=[1, 2])\n",
        "        qml.CZ(wires=[2, 3])\n",
        "        qml.CZ(wires=[3, 4])\n",
        "        qml.CZ(wires=[4, 5])\n",
        "        qml.CZ(wires=[5, 6])\n",
        "\n",
        "        qml.RY(weights[7], wires=0)\n",
        "        qml.RZ(weights[8], wires=1)\n",
        "        qml.RX(weights[9], wires=2)\n",
        "        qml.RZ(weights[10], wires=3)\n",
        "        qml.RX(weights[11], wires=4)\n",
        "        qml.RX(weights[12], wires=5)\n",
        "        qml.RX(weights[13], wires=6)\n",
        "\n",
        "        qml.CZ(wires=[0, 1])\n",
        "        qml.CZ(wires=[1, 2])\n",
        "        qml.CZ(wires=[2, 3])\n",
        "        qml.CZ(wires=[3, 4])\n",
        "        qml.CZ(wires=[4, 5])\n",
        "        qml.CZ(wires=[5, 6])\n",
        "\n",
        "        qml.RX(weights[14], wires=0)\n",
        "        qml.RX(weights[15], wires=1)\n",
        "        qml.RY(weights[16], wires=2)\n",
        "        qml.RY(weights[17], wires=3)\n",
        "        qml.RX(weights[18], wires=4)\n",
        "        qml.RY(weights[19], wires=5)\n",
        "        qml.RY(weights[20], wires=6)\n",
        "\n",
        "        # SWAP-TEST which measures how well the encoder circuit encodes the input data\n",
        "\n",
        "        qml.Hadamard(wires=8)\n",
        "        qml.CSWAP(wires=[8, 6, 7])\n",
        "        qml.Hadamard(wires=8)\n",
        "\n",
        "\n",
        "        return qml.probs(wires=7)\n",
        "\n",
        "    return quantum_circuit"
      ],
      "metadata": {
        "id": "taw3g8D0ThgK"
      },
      "execution_count": 26,
      "outputs": []
    },
    {
      "source": [
        "# Quantum Encoder integration in PyTorch model\n",
        "class QuantumEncoder(nn.Module):\n",
        "    def __init__(self, num_qubits):\n",
        "        super(QuantumEncoder, self).__init__()\n",
        "        self.num_qubits = num_qubits\n",
        "        self.dev = qml.device(\"lightning.qubit\", wires=num_qubits + 2, shots=1024)\n",
        "        self.weights = nn.Parameter(torch.rand(63) * np.pi)\n",
        "        self.qnode = qml.QNode(get_quantum_node(num_qubits, self.dev), self.dev)\n",
        "\n",
        "    def forward(self, x):\n",
        "        # x = x / torch.norm(x, dim=1, keepdim=True)  # Normalize input\n",
        "        swap_test_probs = []\n",
        "        for window in x:\n",
        "          probs = self.qnode(window, self.weights)\n",
        "          prob_1 = probs[1]\n",
        "          swap_test_probs.append(prob_1)\n",
        "\n",
        "        return torch.stack(swap_test_probs) # Use torch.stack to keep the computational graph"
      ],
      "cell_type": "code",
      "metadata": {
        "id": "6Xg_qvrYVKq5"
      },
      "execution_count": 27,
      "outputs": []
    },
    {
      "source": [
        "# Train the Quantum Encoder\n",
        "num_qubits = 7\n",
        "encoder = QuantumEncoder(num_qubits)\n",
        "\n",
        "# Training Loop\n",
        "epochs = 3\n",
        "optimizer = torch.optim.Adam(encoder.parameters(), lr=0.001)\n",
        "\n",
        "best_loss = float('inf')\n",
        "patience = 10\n",
        "trigger_times = 0\n",
        "best_encoder = None\n",
        "\n",
        "loss_threshold = 0.01\n",
        "\n",
        "for epoch in range(epochs):\n",
        "    epoch_loss = 0\n",
        "    progress_bar = tqdm(enumerate(train_loader), total=len(train_loader), desc=f\"Epoch {epoch + 1}/{epochs}\")\n",
        "    for i, batch in progress_bar:\n",
        "        optimizer.zero_grad()\n",
        "        # Get the probability of measuring |1> on qubit 8, which is the swap test result\n",
        "        swap_test_results = encoder(batch)\n",
        "        # Loss is the probability of measuring |1>\n",
        "        loss = torch.mean(swap_test_results)\n",
        "        # We want to minimize the probability of measuring |1>, so that qubits 6 and 7 are as similar as possible\n",
        "        loss.backward()\n",
        "        optimizer.step()\n",
        "        epoch_loss += loss.item()\n",
        "        progress_bar.set_postfix({\"loss\": loss.item()}) # Add loss to the progress bar\n",
        "\n",
        "        # Early stopping check\n",
        "        if loss.item() < loss_threshold:  #if the current batch loss is already below the loss threshold\n",
        "            print(f'Early stopping at epoch {epoch + 1}, batch {i + 1} since loss {loss.item()} is below threshold {loss_threshold}')\n",
        "            break  # Exit the inner loop (batch iteration)\n",
        "\n",
        "\n",
        "    avg_epoch_loss = epoch_loss / len(train_loader)\n",
        "    print(f\"Epoch {epoch + 1}/{epochs}, Avg. Loss: {avg_epoch_loss}\")\n",
        "\n",
        "    if avg_epoch_loss < best_loss:\n",
        "        best_loss = avg_epoch_loss\n",
        "        best_encoder_state_dict = encoder.state_dict()\n",
        "        trigger_times = 0\n",
        "    else:\n",
        "        trigger_times += 1\n",
        "        if trigger_times >= patience:\n",
        "            print(f'Early stopping at epoch {epoch+1} since the loss did not improve for {patience} epochs')\n",
        "            break\n",
        "\n",
        "if best_encoder_state_dict is not None:\n",
        "    print(\"Loading best model\")\n",
        "    best_encoder = QuantumEncoder(num_qubits)  # Create a new instance\n",
        "    best_encoder.load_state_dict(best_encoder_state_dict)\n",
        "    encoder = best_encoder"
      ],
      "cell_type": "code",
      "metadata": {
        "colab": {
          "base_uri": "https://localhost:8080/"
        },
        "id": "HPQtGLnhYI23",
        "outputId": "83d87ccc-0752-4f25-e809-ac48919e3a2f"
      },
      "execution_count": 28,
      "outputs": [
        {
          "output_type": "stream",
          "name": "stderr",
          "text": [
            "Epoch 1/3:   2%|▏         | 1085/58800 [02:01<1:47:54,  8.91it/s, loss=0.00977]\n"
          ]
        },
        {
          "output_type": "stream",
          "name": "stdout",
          "text": [
            "Early stopping at epoch 1, batch 1086 since loss 0.009765625 is below threshold 0.01\n",
            "Epoch 1/3, Avg. Loss: 0.0012590182557397959\n"
          ]
        },
        {
          "output_type": "stream",
          "name": "stderr",
          "text": [
            "Epoch 2/3:   0%|          | 51/58800 [00:04<1:35:20, 10.27it/s, loss=0.00977]\n"
          ]
        },
        {
          "output_type": "stream",
          "name": "stdout",
          "text": [
            "Early stopping at epoch 2, batch 52 since loss 0.009765625 is below threshold 0.01\n",
            "Epoch 2/3, Avg. Loss: 1.6342474489795918e-05\n"
          ]
        },
        {
          "output_type": "stream",
          "name": "stderr",
          "text": [
            "Epoch 3/3:   0%|          | 53/58800 [00:06<1:56:27,  8.41it/s, loss=0.00879]"
          ]
        },
        {
          "output_type": "stream",
          "name": "stdout",
          "text": [
            "Early stopping at epoch 3, batch 54 since loss 0.0087890625 is below threshold 0.01\n",
            "Epoch 3/3, Avg. Loss: 1.5379198554421768e-05\n",
            "Loading best model\n"
          ]
        },
        {
          "output_type": "stream",
          "name": "stderr",
          "text": [
            "\n"
          ]
        }
      ]
    },
    {
      "source": [
        "# Anomaly Detection\n",
        "\n",
        "test_dataset = TimeSeriesDataset(test_data, window_size, stride)\n",
        "test_loader = DataLoader(test_dataset, batch_size=1, shuffle=False)\n",
        "\n",
        "anomalies = []\n",
        "threshold = 0.1  # Threshold for considering the states different\n",
        "normal_probs = []\n",
        "\n",
        "progress_bar = tqdm(enumerate(test_loader), total=len(test_loader), desc=\"Processing Test Samples\")\n",
        "\n",
        "for i, test_sample in progress_bar:\n",
        "    prob_1 = encoder(test_sample).item()\n",
        "    normal_probs.append(prob_1)\n",
        "    if prob_1 > threshold:  # Corrected: Check if prob_1 is above threshold\n",
        "        anomalies.append(i)\n",
        "\n",
        "print(f\"Detected anomalies at window indices: {anomalies}\")\n",
        "\n"
      ],
      "cell_type": "code",
      "metadata": {
        "colab": {
          "base_uri": "https://localhost:8080/"
        },
        "id": "0qBEcLYI9AE7",
        "outputId": "178aad08-073c-4688-8541-265d65471533"
      },
      "execution_count": 29,
      "outputs": [
        {
          "output_type": "stream",
          "name": "stderr",
          "text": [
            "Processing Test Samples: 100%|██████████| 58800/58800 [07:09<00:00, 137.02it/s]"
          ]
        },
        {
          "output_type": "stream",
          "name": "stdout",
          "text": [
            "Detected anomalies at window indices: [29904, 29905, 29906, 29907, 29908, 29909, 29910, 29911, 29912, 29913, 29914, 29915, 29916]\n"
          ]
        },
        {
          "output_type": "stream",
          "name": "stderr",
          "text": [
            "\n"
          ]
        }
      ]
    },
    {
      "cell_type": "code",
      "source": [
        "def get_timeseries_index_from_window_index(window_index, window_size, stride, num_timeseries):\n",
        "    windows_per_timeseries = (num_timeseries - window_size + stride) // stride\n",
        "    timeseries_indices = [index // windows_per_timeseries for index in window_index] # Iterate through each index in the window_index list (anomalies)\n",
        "\n",
        "    return timeseries_indices  # Return the list of timeseries indices\n",
        "\n",
        "\n",
        "timeseries_indices = get_timeseries_index_from_window_index(anomalies, window_size, stride, test_data.shape[1])\n",
        "print(f\"The anomalous windows belong to time series indices: {timeseries_indices}\") #Updated print statement"
      ],
      "metadata": {
        "id": "YfIjc-Li663a",
        "outputId": "f4241ddb-f136-4952-ea93-6ab0ac53d487",
        "colab": {
          "base_uri": "https://localhost:8080/"
        }
      },
      "execution_count": 30,
      "outputs": [
        {
          "output_type": "stream",
          "name": "stdout",
          "text": [
            "The anomalous windows belong to time series indices: [89, 89, 89, 89, 89, 89, 89, 89, 89, 89, 89, 89, 89]\n"
          ]
        }
      ]
    },
    {
      "cell_type": "code",
      "source": [
        "import matplotlib.pyplot as plt\n",
        "\n",
        "plt.figure(figsize=(12, 6))\n",
        "plt.plot(normal_probs)\n",
        "plt.xlabel('Test Sample Time Windows')\n",
        "plt.ylabel('Swap Test Probability of measuring |1>')\n",
        "plt.title('Swap Test Probabilities on Test Data')\n",
        "plt.axhline(y=0.1, color='r', linestyle='--', label='Anomaly Threshold')\n",
        "plt.legend()\n",
        "plt.grid(True)\n",
        "plt.show()"
      ],
      "metadata": {
        "id": "9kkyM9OHBfFF",
        "outputId": "ea43ac07-9afe-4d17-c083-82d1e9871fe8",
        "colab": {
          "base_uri": "https://localhost:8080/",
          "height": 584
        }
      },
      "execution_count": 31,
      "outputs": [
        {
          "output_type": "display_data",
          "data": {
            "text/plain": [
              "<Figure size 1200x600 with 1 Axes>"
            ],
            "image/png": "[encoded data removed]"
          },
          "metadata": {}
        }
      ]
    }
  ],
  "metadata": {
    "accelerator": "GPU",
    "colab": {
      "gpuType": "T4",
      "provenance": []
    },
    "kernelspec": {
      "display_name": "Python 3",
      "name": "python3"
    },
    "language_info": {
      "name": "python"
    }
  },
  "nbformat": 4,
  "nbformat_minor": 0
}